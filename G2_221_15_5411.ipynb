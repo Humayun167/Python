{
  "nbformat": 4,
  "nbformat_minor": 0,
  "metadata": {
    "colab": {
      "provenance": [],
      "authorship_tag": "ABX9TyODQppGtOEYx1JBHHQifB3K",
      "include_colab_link": true
    },
    "kernelspec": {
      "name": "python3",
      "display_name": "Python 3"
    },
    "language_info": {
      "name": "python"
    }
  },
  "cells": [
    {
      "cell_type": "markdown",
      "metadata": {
        "id": "view-in-github",
        "colab_type": "text"
      },
      "source": [
        "<a href=\"https://colab.research.google.com/github/Humayun167/Python/blob/main/G2_221_15_5411.ipynb\" target=\"_parent\"><img src=\"https://colab.research.google.com/assets/colab-badge.svg\" alt=\"Open In Colab\"/></a>"
      ]
    },
    {
      "cell_type": "markdown",
      "source": [
        "\n",
        "\n",
        "```\n",
        "# This is formatted as code\n",
        "```\n",
        "\n",
        "# **Importing Library**"
      ],
      "metadata": {
        "id": "aDBQ5zu3wOMk"
      }
    },
    {
      "cell_type": "code",
      "source": [
        "import numpy as np"
      ],
      "metadata": {
        "id": "yXFJbQJ4wTR6"
      },
      "execution_count": null,
      "outputs": []
    },
    {
      "cell_type": "markdown",
      "source": [
        "# **Array Attributes**"
      ],
      "metadata": {
        "id": "lPTXZxjdwxly"
      }
    },
    {
      "cell_type": "code",
      "source": [
        "a = np.array([1,2,3]) #1D\n",
        "a"
      ],
      "metadata": {
        "colab": {
          "base_uri": "https://localhost:8080/"
        },
        "id": "SEwJi3-Ew1lr",
        "outputId": "df585fae-4499-4040-abdb-d9018aed40cf"
      },
      "execution_count": null,
      "outputs": [
        {
          "output_type": "execute_result",
          "data": {
            "text/plain": [
              "array([1, 2, 3])"
            ]
          },
          "metadata": {},
          "execution_count": 3
        }
      ]
    },
    {
      "cell_type": "code",
      "source": [
        "b= np.array([[1,2,3],\n",
        "             [4,5,6]])\n",
        "b"
      ],
      "metadata": {
        "colab": {
          "base_uri": "https://localhost:8080/"
        },
        "id": "gQjAXbfuxQGq",
        "outputId": "3c3b12e9-8cbd-465d-9b4a-f413ec589e6f"
      },
      "execution_count": null,
      "outputs": [
        {
          "output_type": "execute_result",
          "data": {
            "text/plain": [
              "array([[1, 2, 3],\n",
              "       [4, 5, 6]])"
            ]
          },
          "metadata": {},
          "execution_count": 4
        }
      ]
    },
    {
      "cell_type": "code",
      "source": [
        "c= np.array([[1,2,3],\n",
        "             [4,5,6],\n",
        "             [7,8.5,9]])\n",
        "c"
      ],
      "metadata": {
        "colab": {
          "base_uri": "https://localhost:8080/"
        },
        "id": "iTdYFNkFy505",
        "outputId": "ff6c0561-a8a9-4590-c769-ff9e31fa7d17"
      },
      "execution_count": null,
      "outputs": [
        {
          "output_type": "execute_result",
          "data": {
            "text/plain": [
              "array([[1. , 2. , 3. ],\n",
              "       [4. , 5. , 6. ],\n",
              "       [7. , 8.5, 9. ]])"
            ]
          },
          "metadata": {},
          "execution_count": 12
        }
      ]
    },
    {
      "cell_type": "code",
      "source": [
        "d= np.array([[[1,2,3],\n",
        "             [4,5,6],\n",
        "             [7,8,9]],\n",
        "              [[10,11,12],\n",
        "             [13,14,15],\n",
        "               [55,66,77]]])\n",
        "d"
      ],
      "metadata": {
        "colab": {
          "base_uri": "https://localhost:8080/"
        },
        "id": "t-UIvjTizl2S",
        "outputId": "3f6c76ee-36a6-4a86-da6a-a264410ce1b1"
      },
      "execution_count": null,
      "outputs": [
        {
          "output_type": "execute_result",
          "data": {
            "text/plain": [
              "array([[[ 1,  2,  3],\n",
              "        [ 4,  5,  6],\n",
              "        [ 7,  8,  9]],\n",
              "\n",
              "       [[10, 11, 12],\n",
              "        [13, 14, 15],\n",
              "        [55, 66, 77]]])"
            ]
          },
          "metadata": {},
          "execution_count": 9
        }
      ]
    },
    {
      "cell_type": "markdown",
      "source": [
        "D-type"
      ],
      "metadata": {
        "id": "FDaeZ0BV1Rzf"
      }
    },
    {
      "cell_type": "code",
      "source": [
        "a.dtype, b.dtype,c.dtype,d.dtype\n"
      ],
      "metadata": {
        "colab": {
          "base_uri": "https://localhost:8080/"
        },
        "id": "byljh0WG0QTW",
        "outputId": "1ce08ab6-1adc-403c-b0f0-78d78909592c"
      },
      "execution_count": null,
      "outputs": [
        {
          "output_type": "execute_result",
          "data": {
            "text/plain": [
              "(dtype('int64'), dtype('int64'), dtype('float64'), dtype('int64'))"
            ]
          },
          "metadata": {},
          "execution_count": 13
        }
      ]
    },
    {
      "cell_type": "markdown",
      "source": [
        "# **NDIM**"
      ],
      "metadata": {
        "id": "Yw_Mexn-2JY1"
      }
    },
    {
      "cell_type": "code",
      "source": [
        "a.ndim,b.ndim,c.ndim,d.ndim,"
      ],
      "metadata": {
        "colab": {
          "base_uri": "https://localhost:8080/"
        },
        "id": "f6_ZD0Ga1s7v",
        "outputId": "dd604841-db8b-42fd-c269-a4dc02510832"
      },
      "execution_count": null,
      "outputs": [
        {
          "output_type": "execute_result",
          "data": {
            "text/plain": [
              "(1, 2, 2, 3)"
            ]
          },
          "metadata": {},
          "execution_count": 17
        }
      ]
    },
    {
      "cell_type": "markdown",
      "source": [
        "# Shape **Attribute**"
      ],
      "metadata": {
        "id": "eRolFDUI29c9"
      }
    },
    {
      "cell_type": "code",
      "source": [
        "a.shape,b.shape,c.shape,d.shape,"
      ],
      "metadata": {
        "colab": {
          "base_uri": "https://localhost:8080/"
        },
        "id": "wMnRPGhn3BAl",
        "outputId": "297988ef-15ab-481a-e010-4d52698b2778"
      },
      "execution_count": null,
      "outputs": [
        {
          "output_type": "execute_result",
          "data": {
            "text/plain": [
              "((3,), (2, 3), (3, 3), (2, 3, 3))"
            ]
          },
          "metadata": {},
          "execution_count": 18
        }
      ]
    },
    {
      "cell_type": "markdown",
      "source": [
        "# **SIZE Attribute**"
      ],
      "metadata": {
        "id": "Nl1NS-el3dPt"
      }
    },
    {
      "cell_type": "code",
      "source": [
        "a.size,b.size,c.size,d.size,"
      ],
      "metadata": {
        "colab": {
          "base_uri": "https://localhost:8080/"
        },
        "id": "dZGSYRyh3gkD",
        "outputId": "b14d97e1-ee6a-4a76-eda2-1846e6292196"
      },
      "execution_count": null,
      "outputs": [
        {
          "output_type": "execute_result",
          "data": {
            "text/plain": [
              "(3, 6, 9, 18)"
            ]
          },
          "metadata": {},
          "execution_count": 66
        }
      ]
    },
    {
      "cell_type": "markdown",
      "source": [
        "# Item **size**"
      ],
      "metadata": {
        "id": "rJJ5X_GQ4AN8"
      }
    },
    {
      "cell_type": "code",
      "source": [],
      "metadata": {
        "id": "CYvT5CcxO7ix"
      },
      "execution_count": null,
      "outputs": []
    },
    {
      "cell_type": "markdown",
      "source": [],
      "metadata": {
        "id": "bnyJQzxDO7q5"
      }
    },
    {
      "cell_type": "markdown",
      "source": [],
      "metadata": {
        "id": "GGHVWZiCO8tO"
      }
    },
    {
      "cell_type": "code",
      "source": [
        "a.itemsize,b.itemsize,c.itemsize,d.itemsize,"
      ],
      "metadata": {
        "colab": {
          "base_uri": "https://localhost:8080/"
        },
        "id": "pNyxb3N74CGb",
        "outputId": "20b1d0a1-5426-48e6-8098-5641bd224d22"
      },
      "execution_count": null,
      "outputs": [
        {
          "output_type": "execute_result",
          "data": {
            "text/plain": [
              "(8, 8, 8, 8)"
            ]
          },
          "metadata": {},
          "execution_count": 20
        }
      ]
    },
    {
      "cell_type": "markdown",
      "source": [
        "# **nbytes**"
      ],
      "metadata": {
        "id": "P6701Kcr4vFr"
      }
    },
    {
      "cell_type": "code",
      "source": [
        "a.nbytes,b.nbytes"
      ],
      "metadata": {
        "colab": {
          "base_uri": "https://localhost:8080/"
        },
        "id": "5GAOtCaR4x1k",
        "outputId": "71b54cf0-0f6b-4f95-91e3-09ff4e0e31f4"
      },
      "execution_count": null,
      "outputs": [
        {
          "output_type": "execute_result",
          "data": {
            "text/plain": [
              "(24, 48)"
            ]
          },
          "metadata": {},
          "execution_count": 21
        }
      ]
    },
    {
      "cell_type": "markdown",
      "source": [
        "# **Array Operation**"
      ],
      "metadata": {
        "id": "9Kq5pS9h5CvS"
      }
    },
    {
      "cell_type": "code",
      "source": [
        "b"
      ],
      "metadata": {
        "colab": {
          "base_uri": "https://localhost:8080/"
        },
        "id": "ba0kJCae5fUD",
        "outputId": "0e01c769-7bfe-47b1-ab1f-d8abda778a3d"
      },
      "execution_count": null,
      "outputs": [
        {
          "output_type": "execute_result",
          "data": {
            "text/plain": [
              "array([[1, 2, 3],\n",
              "       [4, 5, 6]])"
            ]
          },
          "metadata": {},
          "execution_count": 22
        }
      ]
    },
    {
      "cell_type": "code",
      "source": [
        "b<5"
      ],
      "metadata": {
        "colab": {
          "base_uri": "https://localhost:8080/",
          "height": 145
        },
        "id": "brfYMEia5ieq",
        "outputId": "e49caa25-2e80-4fcf-fbf7-c49cf30179c9"
      },
      "execution_count": null,
      "outputs": [
        {
          "output_type": "error",
          "ename": "NameError",
          "evalue": "name 'b' is not defined",
          "traceback": [
            "\u001b[0;31m---------------------------------------------------------------------------\u001b[0m",
            "\u001b[0;31mNameError\u001b[0m                                 Traceback (most recent call last)",
            "\u001b[0;32m<ipython-input-1-3bfa36863dff>\u001b[0m in \u001b[0;36m<cell line: 1>\u001b[0;34m()\u001b[0m\n\u001b[0;32m----> 1\u001b[0;31m \u001b[0mb\u001b[0m\u001b[0;34m<\u001b[0m\u001b[0;36m5\u001b[0m\u001b[0;34m\u001b[0m\u001b[0;34m\u001b[0m\u001b[0m\n\u001b[0m",
            "\u001b[0;31mNameError\u001b[0m: name 'b' is not defined"
          ]
        }
      ]
    },
    {
      "cell_type": "code",
      "source": [
        "b<=5"
      ],
      "metadata": {
        "colab": {
          "base_uri": "https://localhost:8080/"
        },
        "id": "zI8kDzIp54t9",
        "outputId": "3935cfa1-2208-4363-a74c-08db997af30e"
      },
      "execution_count": null,
      "outputs": [
        {
          "output_type": "execute_result",
          "data": {
            "text/plain": [
              "array([[ True,  True,  True],\n",
              "       [ True,  True, False]])"
            ]
          },
          "metadata": {},
          "execution_count": 27
        }
      ]
    },
    {
      "cell_type": "code",
      "source": [
        "b==5"
      ],
      "metadata": {
        "colab": {
          "base_uri": "https://localhost:8080/"
        },
        "id": "Fl6Oha0o59fC",
        "outputId": "d90af0e9-eb86-4fa1-d593-570f1c22e79d"
      },
      "execution_count": null,
      "outputs": [
        {
          "output_type": "execute_result",
          "data": {
            "text/plain": [
              "array([[False, False, False],\n",
              "       [False,  True, False]])"
            ]
          },
          "metadata": {},
          "execution_count": 28
        }
      ]
    },
    {
      "cell_type": "code",
      "source": [
        "b!=5"
      ],
      "metadata": {
        "colab": {
          "base_uri": "https://localhost:8080/"
        },
        "id": "LTkPhA2W6BBL",
        "outputId": "60cb3a56-d068-4df0-86aa-be425b7c0d1c"
      },
      "execution_count": null,
      "outputs": [
        {
          "output_type": "execute_result",
          "data": {
            "text/plain": [
              "array([[ True,  True,  True],\n",
              "       [ True, False,  True]])"
            ]
          },
          "metadata": {},
          "execution_count": 29
        }
      ]
    },
    {
      "cell_type": "code",
      "source": [
        "x= np.array([[1,2,3],\n",
        "             [4,5,6]])"
      ],
      "metadata": {
        "id": "Xf5kCwRl6IQi",
        "colab": {
          "base_uri": "https://localhost:8080/",
          "height": 163
        },
        "outputId": "98395bd2-16a8-4551-9892-961f9ec751ce"
      },
      "execution_count": null,
      "outputs": [
        {
          "output_type": "error",
          "ename": "NameError",
          "evalue": "name 'np' is not defined",
          "traceback": [
            "\u001b[0;31m---------------------------------------------------------------------------\u001b[0m",
            "\u001b[0;31mNameError\u001b[0m                                 Traceback (most recent call last)",
            "\u001b[0;32m<ipython-input-2-a37ba2d392c2>\u001b[0m in \u001b[0;36m<cell line: 1>\u001b[0;34m()\u001b[0m\n\u001b[0;32m----> 1\u001b[0;31m x= np.array([[1,2,3],\n\u001b[0m\u001b[1;32m      2\u001b[0m              [4,5,6]])\n",
            "\u001b[0;31mNameError\u001b[0m: name 'np' is not defined"
          ]
        }
      ]
    },
    {
      "cell_type": "code",
      "source": [
        "x\n"
      ],
      "metadata": {
        "colab": {
          "base_uri": "https://localhost:8080/"
        },
        "id": "qVjSDAxa6mW-",
        "outputId": "b1c9cd98-bca7-4c38-ccf0-5deb7ad5fbb1"
      },
      "execution_count": null,
      "outputs": [
        {
          "output_type": "execute_result",
          "data": {
            "text/plain": [
              "array([[1, 2, 3],\n",
              "       [4, 5, 6]])"
            ]
          },
          "metadata": {},
          "execution_count": 31
        }
      ]
    },
    {
      "cell_type": "code",
      "source": [
        "y= np.array([[7,8,9],\n",
        "             [10,11,12]])"
      ],
      "metadata": {
        "id": "6ET_JJTp6n4N"
      },
      "execution_count": null,
      "outputs": []
    },
    {
      "cell_type": "code",
      "source": [
        "y"
      ],
      "metadata": {
        "colab": {
          "base_uri": "https://localhost:8080/"
        },
        "id": "zj5kcudb6uE9",
        "outputId": "bf1da398-4cfc-4009-9c71-eae3572ebb2d"
      },
      "execution_count": null,
      "outputs": [
        {
          "output_type": "execute_result",
          "data": {
            "text/plain": [
              "array([[ 7,  8,  9],\n",
              "       [10, 11, 12]])"
            ]
          },
          "metadata": {},
          "execution_count": 33
        }
      ]
    },
    {
      "cell_type": "code",
      "source": [
        "z= x*y\n",
        "z"
      ],
      "metadata": {
        "colab": {
          "base_uri": "https://localhost:8080/"
        },
        "id": "TYqQabBA6xU2",
        "outputId": "a0e890ef-68de-424a-d03b-274bd0c6b271"
      },
      "execution_count": null,
      "outputs": [
        {
          "output_type": "execute_result",
          "data": {
            "text/plain": [
              "array([[ 7, 16, 27],\n",
              "       [40, 55, 72]])"
            ]
          },
          "metadata": {},
          "execution_count": 35
        }
      ]
    },
    {
      "cell_type": "code",
      "source": [
        "z=x%y\n",
        "z"
      ],
      "metadata": {
        "colab": {
          "base_uri": "https://localhost:8080/"
        },
        "id": "MVjwzvh163ml",
        "outputId": "e9f5b457-e0da-474a-ff03-35ace9ae4c82"
      },
      "execution_count": null,
      "outputs": [
        {
          "output_type": "execute_result",
          "data": {
            "text/plain": [
              "array([[1, 2, 3],\n",
              "       [4, 5, 6]])"
            ]
          },
          "metadata": {},
          "execution_count": 36
        }
      ]
    },
    {
      "cell_type": "markdown",
      "source": [
        "# Numpy **method**"
      ],
      "metadata": {
        "id": "0O6Zy7PI7v24"
      }
    },
    {
      "cell_type": "code",
      "source": [
        "grades = np.array([[87,95,70],[50,60,80],[70,58,60],[70,99,50]])\n",
        "grades\n"
      ],
      "metadata": {
        "colab": {
          "base_uri": "https://localhost:8080/"
        },
        "id": "K9DaCUQO76pI",
        "outputId": "38816f74-0b5c-4d78-86fa-47d46c55f3ae"
      },
      "execution_count": null,
      "outputs": [
        {
          "output_type": "execute_result",
          "data": {
            "text/plain": [
              "array([[87, 95, 70],\n",
              "       [50, 60, 80],\n",
              "       [70, 58, 60],\n",
              "       [70, 99, 50]])"
            ]
          },
          "metadata": {},
          "execution_count": 37
        }
      ]
    },
    {
      "cell_type": "code",
      "source": [
        "grades.max()\n"
      ],
      "metadata": {
        "colab": {
          "base_uri": "https://localhost:8080/"
        },
        "id": "6f1R3Xym8Vsg",
        "outputId": "f491d10d-eb9b-405e-b65d-1036c2839fa0"
      },
      "execution_count": null,
      "outputs": [
        {
          "output_type": "execute_result",
          "data": {
            "text/plain": [
              "99"
            ]
          },
          "metadata": {},
          "execution_count": 39
        }
      ]
    },
    {
      "cell_type": "code",
      "source": [
        "grades.min()"
      ],
      "metadata": {
        "colab": {
          "base_uri": "https://localhost:8080/"
        },
        "id": "jnrDTbFa8dZY",
        "outputId": "a8330040-376d-4fd8-c8f1-d091b2566da6"
      },
      "execution_count": null,
      "outputs": [
        {
          "output_type": "execute_result",
          "data": {
            "text/plain": [
              "50"
            ]
          },
          "metadata": {},
          "execution_count": 40
        }
      ]
    },
    {
      "cell_type": "code",
      "source": [
        "grades.mean()"
      ],
      "metadata": {
        "colab": {
          "base_uri": "https://localhost:8080/"
        },
        "id": "edrvUVQs8iyQ",
        "outputId": "dbd82c58-c19d-459d-ba48-dac5bb88feb4"
      },
      "execution_count": null,
      "outputs": [
        {
          "output_type": "execute_result",
          "data": {
            "text/plain": [
              "70.75"
            ]
          },
          "metadata": {},
          "execution_count": 42
        }
      ]
    },
    {
      "cell_type": "code",
      "source": [
        "grades.std()"
      ],
      "metadata": {
        "colab": {
          "base_uri": "https://localhost:8080/"
        },
        "id": "RqdZlLWZ83WQ",
        "outputId": "1b6a4626-7f80-4caf-9c54-4ad3916f2c63"
      },
      "execution_count": null,
      "outputs": [
        {
          "output_type": "execute_result",
          "data": {
            "text/plain": [
              "15.790952050673406"
            ]
          },
          "metadata": {},
          "execution_count": 43
        }
      ]
    },
    {
      "cell_type": "code",
      "source": [
        "grades.mean(axis=1)"
      ],
      "metadata": {
        "colab": {
          "base_uri": "https://localhost:8080/"
        },
        "id": "syMmKOeo9ULP",
        "outputId": "d9f2aa60-7540-407d-ef40-588d52ad852a"
      },
      "execution_count": null,
      "outputs": [
        {
          "output_type": "execute_result",
          "data": {
            "text/plain": [
              "array([84.        , 63.33333333, 62.66666667, 73.        ])"
            ]
          },
          "metadata": {},
          "execution_count": 44
        }
      ]
    },
    {
      "cell_type": "markdown",
      "source": [
        "# **Shallow Copies**"
      ],
      "metadata": {
        "id": "Sra2aiTh_Ch9"
      }
    },
    {
      "cell_type": "code",
      "source": [
        "num1 = np.arange(1,6)\n",
        "num1"
      ],
      "metadata": {
        "colab": {
          "base_uri": "https://localhost:8080/"
        },
        "id": "egSBjeYA_CUt",
        "outputId": "85cb08be-dee3-4c7c-9cea-7e25bf77de73"
      },
      "execution_count": null,
      "outputs": [
        {
          "output_type": "execute_result",
          "data": {
            "text/plain": [
              "array([1, 2, 3, 4, 5])"
            ]
          },
          "metadata": {},
          "execution_count": 47
        }
      ]
    },
    {
      "cell_type": "code",
      "source": [
        "num2 = num1.view()\n",
        "num2"
      ],
      "metadata": {
        "colab": {
          "base_uri": "https://localhost:8080/"
        },
        "id": "sRWX_sKX_Y1u",
        "outputId": "35d4ca29-12ed-4369-ab5d-e938afc2f6c1"
      },
      "execution_count": null,
      "outputs": [
        {
          "output_type": "execute_result",
          "data": {
            "text/plain": [
              "array([1, 2, 3, 4, 5])"
            ]
          },
          "metadata": {},
          "execution_count": 51
        }
      ]
    },
    {
      "cell_type": "code",
      "source": [
        "print(id(num1))\n",
        "print(id(num2))"
      ],
      "metadata": {
        "colab": {
          "base_uri": "https://localhost:8080/"
        },
        "id": "3YS50JaVAZEV",
        "outputId": "3fc13d99-c4d3-4113-81b8-4bccd677ad31"
      },
      "execution_count": null,
      "outputs": [
        {
          "output_type": "stream",
          "name": "stdout",
          "text": [
            "134311969531120\n",
            "134311969445360\n"
          ]
        }
      ]
    },
    {
      "cell_type": "markdown",
      "source": [
        "# **Deep Copies**"
      ],
      "metadata": {
        "id": "_20OqJdOArc8"
      }
    },
    {
      "cell_type": "code",
      "source": [
        "num3 = num2.copy()\n",
        "num3"
      ],
      "metadata": {
        "colab": {
          "base_uri": "https://localhost:8080/"
        },
        "id": "by0o3E50Axe8",
        "outputId": "f541f1bb-8e1b-4cc5-ae83-e83e940147e2"
      },
      "execution_count": null,
      "outputs": [
        {
          "output_type": "execute_result",
          "data": {
            "text/plain": [
              "array([1, 2, 3, 4, 5])"
            ]
          },
          "metadata": {},
          "execution_count": 55
        }
      ]
    },
    {
      "cell_type": "code",
      "source": [
        "num2[4]*=5\n",
        "num2"
      ],
      "metadata": {
        "colab": {
          "base_uri": "https://localhost:8080/"
        },
        "id": "_hAaimnRBH9V",
        "outputId": "bebf429f-4577-4a49-8a38-4bebfa9cdb5b"
      },
      "execution_count": null,
      "outputs": [
        {
          "output_type": "execute_result",
          "data": {
            "text/plain": [
              "array([  1,   2,   3,   4, 125])"
            ]
          },
          "metadata": {},
          "execution_count": 57
        }
      ]
    },
    {
      "cell_type": "code",
      "source": [],
      "metadata": {
        "id": "azpP6Lt8BVaF"
      },
      "execution_count": null,
      "outputs": []
    },
    {
      "cell_type": "code",
      "source": [
        "num3\n"
      ],
      "metadata": {
        "colab": {
          "base_uri": "https://localhost:8080/"
        },
        "id": "b5L5bOOZBVgM",
        "outputId": "eb1ed937-22ea-4829-c136-a7ef75098aba"
      },
      "execution_count": null,
      "outputs": [
        {
          "output_type": "execute_result",
          "data": {
            "text/plain": [
              "array([1, 2, 3, 4, 5])"
            ]
          },
          "metadata": {},
          "execution_count": 58
        }
      ]
    },
    {
      "cell_type": "markdown",
      "source": [
        "# **Universal Function**"
      ],
      "metadata": {
        "id": "CV542O3tBYFl"
      }
    },
    {
      "cell_type": "code",
      "source": [
        "num = np.arange(1,6) *5\n",
        "num"
      ],
      "metadata": {
        "colab": {
          "base_uri": "https://localhost:8080/"
        },
        "id": "lOtW6BblBcC8",
        "outputId": "96e45923-db12-4f70-b166-f45d3397c69e"
      },
      "execution_count": null,
      "outputs": [
        {
          "output_type": "execute_result",
          "data": {
            "text/plain": [
              "array([ 5, 10, 15, 20, 25])"
            ]
          },
          "metadata": {},
          "execution_count": 62
        }
      ]
    },
    {
      "cell_type": "code",
      "source": [
        "n=np.add(num,5)\n",
        "n-15"
      ],
      "metadata": {
        "colab": {
          "base_uri": "https://localhost:8080/"
        },
        "id": "iikAeKagBvnk",
        "outputId": "27ab8acc-bd8c-4a42-c39d-69ae302ff23c"
      },
      "execution_count": null,
      "outputs": [
        {
          "output_type": "execute_result",
          "data": {
            "text/plain": [
              "array([10, 15, 20, 25, 30])"
            ]
          },
          "metadata": {},
          "execution_count": 67
        }
      ]
    },
    {
      "cell_type": "code",
      "source": [
        "g=np.multiply(num,5)\n",
        "g\n"
      ],
      "metadata": {
        "colab": {
          "base_uri": "https://localhost:8080/"
        },
        "id": "KbM3TyMoD7ue",
        "outputId": "eadb6d31-0dcd-4fd2-c759-93801d65e989"
      },
      "execution_count": null,
      "outputs": [
        {
          "output_type": "execute_result",
          "data": {
            "text/plain": [
              "array([ 25,  50,  75, 100, 125])"
            ]
          },
          "metadata": {},
          "execution_count": 69
        }
      ]
    },
    {
      "cell_type": "code",
      "source": [
        "g=np.power(num,3)\n",
        "g"
      ],
      "metadata": {
        "colab": {
          "base_uri": "https://localhost:8080/"
        },
        "id": "j10nmGKiD__1",
        "outputId": "d5076ffe-c056-4419-ed9c-693ef984223a"
      },
      "execution_count": null,
      "outputs": [
        {
          "output_type": "execute_result",
          "data": {
            "text/plain": [
              "array([  125,  1000,  3375,  8000, 15625])"
            ]
          },
          "metadata": {},
          "execution_count": 70
        }
      ]
    },
    {
      "cell_type": "code",
      "source": [
        "g=np.sqrt(num)\n",
        "g"
      ],
      "metadata": {
        "colab": {
          "base_uri": "https://localhost:8080/"
        },
        "id": "qa4aB-84EBed",
        "outputId": "0a3b54fe-188a-4541-9960-c06941ea09cd"
      },
      "execution_count": null,
      "outputs": [
        {
          "output_type": "execute_result",
          "data": {
            "text/plain": [
              "array([2.23606798, 3.16227766, 3.87298335, 4.47213595, 5.        ])"
            ]
          },
          "metadata": {},
          "execution_count": 71
        }
      ]
    },
    {
      "cell_type": "code",
      "source": [
        "g=np.exp(num)\n",
        "g\n",
        "\n"
      ],
      "metadata": {
        "colab": {
          "base_uri": "https://localhost:8080/"
        },
        "id": "i4BA8DX9EDod",
        "outputId": "57fba05f-0187-4b7f-f80e-f2ca8a857bbd"
      },
      "execution_count": null,
      "outputs": [
        {
          "output_type": "execute_result",
          "data": {
            "text/plain": [
              "array([1.48413159e+02, 2.20264658e+04, 3.26901737e+06, 4.85165195e+08,\n",
              "       7.20048993e+10])"
            ]
          },
          "metadata": {},
          "execution_count": 72
        }
      ]
    },
    {
      "cell_type": "code",
      "source": [
        "g=np.log10(num)\n",
        "g"
      ],
      "metadata": {
        "colab": {
          "base_uri": "https://localhost:8080/"
        },
        "id": "2dlbrti4EHi_",
        "outputId": "9f591c53-7e02-4e89-ef9a-31986761ed4a"
      },
      "execution_count": null,
      "outputs": [
        {
          "output_type": "execute_result",
          "data": {
            "text/plain": [
              "array([0.69897   , 1.        , 1.17609126, 1.30103   , 1.39794001])"
            ]
          },
          "metadata": {},
          "execution_count": 73
        }
      ]
    },
    {
      "cell_type": "code",
      "source": [
        "g=np.log(num)\n",
        "g"
      ],
      "metadata": {
        "colab": {
          "base_uri": "https://localhost:8080/"
        },
        "id": "Sya3GXuPEK2P",
        "outputId": "cfb97276-7fc2-43ec-875d-e9a4d25bcffc"
      },
      "execution_count": null,
      "outputs": [
        {
          "output_type": "execute_result",
          "data": {
            "text/plain": [
              "array([1.60943791, 2.30258509, 2.7080502 , 2.99573227, 3.21887582])"
            ]
          },
          "metadata": {},
          "execution_count": 74
        }
      ]
    },
    {
      "cell_type": "code",
      "source": [
        "np.linspace(2,10,5)"
      ],
      "metadata": {
        "colab": {
          "base_uri": "https://localhost:8080/"
        },
        "id": "jPmUCzF2ENah",
        "outputId": "2d34eda2-dd1a-4afb-f35f-140f210a8f40"
      },
      "execution_count": null,
      "outputs": [
        {
          "output_type": "execute_result",
          "data": {
            "text/plain": [
              "array([ 2.,  4.,  6.,  8., 10.])"
            ]
          },
          "metadata": {},
          "execution_count": 75
        }
      ]
    },
    {
      "cell_type": "code",
      "source": [
        "theta = np.linspace(0,90,7)\n",
        "theta"
      ],
      "metadata": {
        "colab": {
          "base_uri": "https://localhost:8080/"
        },
        "id": "SNsoH_3BERCI",
        "outputId": "0dadbc68-06ac-4934-8949-6c0d6d417f9c"
      },
      "execution_count": null,
      "outputs": [
        {
          "output_type": "execute_result",
          "data": {
            "text/plain": [
              "array([ 0., 15., 30., 45., 60., 75., 90.])"
            ]
          },
          "metadata": {},
          "execution_count": 76
        }
      ]
    },
    {
      "cell_type": "code",
      "source": [],
      "metadata": {
        "id": "MIrFMCjmI_zd"
      },
      "execution_count": null,
      "outputs": []
    },
    {
      "cell_type": "markdown",
      "source": [
        "# **indexing and slicing**"
      ],
      "metadata": {
        "id": "OFMATWaUFQLv"
      }
    },
    {
      "cell_type": "code",
      "source": [
        "num = np.arange(0,110,10)\n",
        "num"
      ],
      "metadata": {
        "colab": {
          "base_uri": "https://localhost:8080/"
        },
        "id": "yxZypjHFFUQg",
        "outputId": "03ffe938-9dd2-4d81-a140-f0cca4327f21"
      },
      "execution_count": null,
      "outputs": [
        {
          "output_type": "execute_result",
          "data": {
            "text/plain": [
              "array([  0,  10,  20,  30,  40,  50,  60,  70,  80,  90, 100])"
            ]
          },
          "metadata": {},
          "execution_count": 77
        }
      ]
    },
    {
      "cell_type": "code",
      "source": [
        "num[::]"
      ],
      "metadata": {
        "colab": {
          "base_uri": "https://localhost:8080/"
        },
        "id": "4X0Qu9ctFm2X",
        "outputId": "47ef1b93-188d-449d-ac37-f1e37098dd91"
      },
      "execution_count": null,
      "outputs": [
        {
          "output_type": "execute_result",
          "data": {
            "text/plain": [
              "array([  0,  10,  20,  30,  40,  50,  60,  70,  80,  90, 100])"
            ]
          },
          "metadata": {},
          "execution_count": 79
        }
      ]
    },
    {
      "cell_type": "code",
      "source": [
        "num[3:8]"
      ],
      "metadata": {
        "colab": {
          "base_uri": "https://localhost:8080/"
        },
        "id": "fu1YKgiuFvNf",
        "outputId": "5d50cb2d-8349-4e26-c008-134a112eb949"
      },
      "execution_count": null,
      "outputs": [
        {
          "output_type": "execute_result",
          "data": {
            "text/plain": [
              "array([30, 40, 50, 60, 70])"
            ]
          },
          "metadata": {},
          "execution_count": 80
        }
      ]
    },
    {
      "cell_type": "code",
      "source": [
        "num[::-1]"
      ],
      "metadata": {
        "colab": {
          "base_uri": "https://localhost:8080/"
        },
        "id": "lN3rrHm-F34j",
        "outputId": "c5ae3013-9f26-4a37-f005-c646768779c6"
      },
      "execution_count": null,
      "outputs": [
        {
          "output_type": "execute_result",
          "data": {
            "text/plain": [
              "array([100,  90,  80,  70,  60,  50,  40,  30,  20,  10,   0])"
            ]
          },
          "metadata": {},
          "execution_count": 81
        }
      ]
    },
    {
      "cell_type": "code",
      "source": [
        "num[7:2:-1]"
      ],
      "metadata": {
        "colab": {
          "base_uri": "https://localhost:8080/"
        },
        "id": "BfHdfGazGGG_",
        "outputId": "f807fb4e-2ac7-4e16-c959-f2ca1912af4d"
      },
      "execution_count": null,
      "outputs": [
        {
          "output_type": "execute_result",
          "data": {
            "text/plain": [
              "array([70, 60, 50, 40, 30])"
            ]
          },
          "metadata": {},
          "execution_count": 84
        }
      ]
    },
    {
      "cell_type": "code",
      "source": [
        "grades\n"
      ],
      "metadata": {
        "colab": {
          "base_uri": "https://localhost:8080/"
        },
        "id": "TDp55NSCGVet",
        "outputId": "81acd5d0-76de-4a4c-ee67-21911ebf7cf5"
      },
      "execution_count": null,
      "outputs": [
        {
          "output_type": "execute_result",
          "data": {
            "text/plain": [
              "array([[87, 95, 70],\n",
              "       [50, 60, 80],\n",
              "       [70, 58, 60],\n",
              "       [70, 99, 50]])"
            ]
          },
          "metadata": {},
          "execution_count": 85
        }
      ]
    },
    {
      "cell_type": "code",
      "source": [
        "grades[2,1] #row"
      ],
      "metadata": {
        "colab": {
          "base_uri": "https://localhost:8080/"
        },
        "id": "epjOuAidHJr2",
        "outputId": "1559813e-7cdd-41cd-c3da-8c9c961ddc92"
      },
      "execution_count": null,
      "outputs": [
        {
          "output_type": "execute_result",
          "data": {
            "text/plain": [
              "58"
            ]
          },
          "metadata": {},
          "execution_count": 86
        }
      ]
    },
    {
      "cell_type": "code",
      "source": [
        "grades[1:4] #row"
      ],
      "metadata": {
        "colab": {
          "base_uri": "https://localhost:8080/"
        },
        "id": "LE8u1T_2HQ5w",
        "outputId": "468273cb-83ed-4379-d1e1-3746bec7db10"
      },
      "execution_count": null,
      "outputs": [
        {
          "output_type": "execute_result",
          "data": {
            "text/plain": [
              "array([[50, 60, 80],\n",
              "       [70, 58, 60],\n",
              "       [70, 99, 50]])"
            ]
          },
          "metadata": {},
          "execution_count": 89
        }
      ]
    },
    {
      "cell_type": "code",
      "source": [
        "grades[[1,3]]"
      ],
      "metadata": {
        "colab": {
          "base_uri": "https://localhost:8080/"
        },
        "id": "SCHhL0vFHywQ",
        "outputId": "90123f86-5fdd-419b-e372-2811cf4dce0c"
      },
      "execution_count": null,
      "outputs": [
        {
          "output_type": "execute_result",
          "data": {
            "text/plain": [
              "array([[50, 60, 80],\n",
              "       [70, 99, 50]])"
            ]
          },
          "metadata": {},
          "execution_count": 91
        }
      ]
    },
    {
      "cell_type": "code",
      "source": [
        "grades[:,1]\n"
      ],
      "metadata": {
        "colab": {
          "base_uri": "https://localhost:8080/"
        },
        "id": "q6xooGdxJAvK",
        "outputId": "5515954c-305a-483f-f994-92ebeddfa4e5"
      },
      "execution_count": null,
      "outputs": [
        {
          "output_type": "execute_result",
          "data": {
            "text/plain": [
              "array([95, 60, 58, 99])"
            ]
          },
          "metadata": {},
          "execution_count": 92
        }
      ]
    },
    {
      "cell_type": "code",
      "source": [
        "grades[:,1:3]"
      ],
      "metadata": {
        "colab": {
          "base_uri": "https://localhost:8080/"
        },
        "id": "Ua3qCMrjJCtk",
        "outputId": "23e7093d-3b4c-45cd-c35f-e3cc24d87b02"
      },
      "execution_count": null,
      "outputs": [
        {
          "output_type": "execute_result",
          "data": {
            "text/plain": [
              "array([[95, 70],\n",
              "       [60, 80],\n",
              "       [58, 60],\n",
              "       [99, 50]])"
            ]
          },
          "metadata": {},
          "execution_count": 93
        }
      ]
    },
    {
      "cell_type": "code",
      "source": [
        "grades[:,[0,2]]"
      ],
      "metadata": {
        "colab": {
          "base_uri": "https://localhost:8080/"
        },
        "id": "ZRkZGLaAJIIl",
        "outputId": "6f2a795e-a03d-45aa-f0e6-f35e3730e099"
      },
      "execution_count": null,
      "outputs": [
        {
          "output_type": "execute_result",
          "data": {
            "text/plain": [
              "array([[87, 70],\n",
              "       [50, 80],\n",
              "       [70, 60],\n",
              "       [70, 50]])"
            ]
          },
          "metadata": {},
          "execution_count": 94
        }
      ]
    },
    {
      "cell_type": "markdown",
      "source": [
        "**Reshaping**"
      ],
      "metadata": {
        "id": "r3kVdJimKwmE"
      }
    },
    {
      "cell_type": "code",
      "source": [
        "b_reshape = np.reshape(b,(3,2))\n",
        "b_reshape"
      ],
      "metadata": {
        "colab": {
          "base_uri": "https://localhost:8080/"
        },
        "id": "5Ya1a04TKxUO",
        "outputId": "ede1a6b9-4020-4ef7-91b2-31a680f67d38"
      },
      "execution_count": null,
      "outputs": [
        {
          "output_type": "execute_result",
          "data": {
            "text/plain": [
              "array([[1, 2],\n",
              "       [3, 4],\n",
              "       [5, 6]])"
            ]
          },
          "metadata": {},
          "execution_count": 98
        }
      ]
    },
    {
      "cell_type": "markdown",
      "source": [
        "**Transposing**\n"
      ],
      "metadata": {
        "id": "CalmwbsMKA-_"
      }
    },
    {
      "cell_type": "code",
      "source": [
        "b\n"
      ],
      "metadata": {
        "colab": {
          "base_uri": "https://localhost:8080/"
        },
        "id": "fIkJQaXqKChF",
        "outputId": "df4e93ef-c26b-4949-bdac-9dfb3e93a69d"
      },
      "execution_count": null,
      "outputs": [
        {
          "output_type": "execute_result",
          "data": {
            "text/plain": [
              "array([[1, 2, 3],\n",
              "       [4, 5, 6]])"
            ]
          },
          "metadata": {},
          "execution_count": 95
        }
      ]
    },
    {
      "cell_type": "code",
      "source": [
        "b.shape"
      ],
      "metadata": {
        "colab": {
          "base_uri": "https://localhost:8080/"
        },
        "id": "JJEWv1JvKFYl",
        "outputId": "6de57643-4f26-4771-efb0-c242db90e9ca"
      },
      "execution_count": null,
      "outputs": [
        {
          "output_type": "execute_result",
          "data": {
            "text/plain": [
              "(2, 3)"
            ]
          },
          "metadata": {},
          "execution_count": 96
        }
      ]
    },
    {
      "cell_type": "code",
      "source": [
        "b_transpose = np.transpose(b)\n",
        "b_transpose"
      ],
      "metadata": {
        "colab": {
          "base_uri": "https://localhost:8080/"
        },
        "id": "1kVIz3sbKJ0M",
        "outputId": "e704eb0e-a19e-44f0-f20b-572789e88768"
      },
      "execution_count": null,
      "outputs": [
        {
          "output_type": "execute_result",
          "data": {
            "text/plain": [
              "array([[1, 4],\n",
              "       [2, 5],\n",
              "       [3, 6]])"
            ]
          },
          "metadata": {},
          "execution_count": 97
        }
      ]
    },
    {
      "cell_type": "markdown",
      "source": [
        "# **Exercise 1**"
      ],
      "metadata": {
        "id": "DVTkjkVcO9vy"
      }
    },
    {
      "cell_type": "code",
      "source": [
        "#a\n",
        "import numpy as np\n",
        "\n",
        "arr = np.array([[1,2,3,4,5],[6,7,8,9,10],[11,12,13,14,15],[16,17,18,19,20]])\n",
        "\n",
        "second_row = arr[1]\n",
        "print(second_row)"
      ],
      "metadata": {
        "id": "Rmk4mb6DPAq5"
      },
      "execution_count": null,
      "outputs": []
    },
    {
      "cell_type": "code",
      "source": [
        "#b\n",
        "import numpy as np\n",
        "\n",
        "arr = np.array([[1,2,3,4,5],[6,7,8,9,10],[11,12,13,14,15],[16,17,18,19,20]])\n",
        "\n",
        "first_and_third_rows = arr[[0, 2]]\n",
        "print(first_and_third_rows)"
      ],
      "metadata": {
        "id": "snRpM1VfQMZg"
      },
      "execution_count": null,
      "outputs": []
    },
    {
      "cell_type": "code",
      "source": [
        "#c\n",
        "import numpy as np\n",
        "\n",
        "arr = np.array([[1,2,3,4,5],[6,7,8,9,10],[11,12,13,14,15],[16,17,18,19,20]])\n",
        "\n",
        "middle_three_columns = arr[:, 1:4]\n",
        "print(middle_three_columns)\n"
      ],
      "metadata": {
        "colab": {
          "base_uri": "https://localhost:8080/"
        },
        "id": "rsnz8kGHQfkJ",
        "outputId": "12b573d5-948b-4bb4-a615-bdd6446c9dc2"
      },
      "execution_count": null,
      "outputs": [
        {
          "output_type": "stream",
          "name": "stdout",
          "text": [
            "[[ 2  3  4]\n",
            " [ 7  8  9]\n",
            " [12 13 14]\n",
            " [17 18 19]]\n"
          ]
        }
      ]
    },
    {
      "cell_type": "code",
      "source": [
        "#d\n",
        "import numpy as np\n",
        "\n",
        "arr = np.array([[1,  2,  3,  4,  5],\n",
        "                [6,  7,  8,  9, 10],\n",
        "                [11, 12, 13, 14, 15],\n",
        "                [16, 17, 18, 19, 20]])\n",
        "\n",
        "element_12 = arr[2, 1]\n",
        "element_13 = arr[2, 2]\n",
        "\n",
        "print(\"Element 12:\", element_12)\n",
        "print(\"Element 13:\", element_13)\n"
      ],
      "metadata": {
        "colab": {
          "base_uri": "https://localhost:8080/"
        },
        "id": "lpK_YY3fQ37Q",
        "outputId": "fb4645d1-9bd9-4576-ab20-216414b1d49c"
      },
      "execution_count": null,
      "outputs": [
        {
          "output_type": "stream",
          "name": "stdout",
          "text": [
            "Element 12: 12\n",
            "Element 13: 13\n"
          ]
        }
      ]
    },
    {
      "cell_type": "code",
      "source": [
        "#e\n",
        "import numpy as np\n",
        "\n",
        "arr = np.array([[1, 2, 3, 4, 5],\n",
        "                [6, 7, 8, 9, 10],\n",
        "                [11, 12, 13, 14, 15],\n",
        "                [16, 17, 18, 19, 20]])\n",
        "\n",
        "third_row_reverse = arr[2, ::-1]\n",
        "print(\"Third row in reverse order:\", third_row_reverse)\n"
      ],
      "metadata": {
        "colab": {
          "base_uri": "https://localhost:8080/"
        },
        "id": "3WeWP9erRXjo",
        "outputId": "494f661c-3dcd-48d8-c1fb-7e1e4733957b"
      },
      "execution_count": null,
      "outputs": [
        {
          "output_type": "stream",
          "name": "stdout",
          "text": [
            "Third row in reverse order: [15 14 13 12 11]\n"
          ]
        }
      ]
    },
    {
      "cell_type": "code",
      "source": [],
      "metadata": {
        "id": "eXeHut7ITUuy"
      },
      "execution_count": null,
      "outputs": []
    },
    {
      "cell_type": "code",
      "source": [
        "#f\n",
        "import numpy as np\n",
        "\n",
        "arr = np.array([[1, 2, 3, 4, 5],\n",
        "                [6, 7, 8, 9, 10],\n",
        "                [11, 12, 13, 14, 15],\n",
        "                [16, 17, 18, 19, 20]])\n",
        "\n",
        "fourth_row = arr[3]\n",
        "max_value = np.max(fourth_row)\n",
        "min_value = np.min(fourth_row)\n",
        "sum_value = np.sum(fourth_row)\n",
        "mean_value = np.mean(fourth_row)\n",
        "std_value = np.std(fourth_row)\n",
        "var_value = np.var(fourth_row)\n",
        "\n",
        "print(\"Max:\", max_value)\n",
        "print(\"Min:\", min_value)\n",
        "print(\"Sum:\", sum_value)\n",
        "print(\"Mean:\", mean_value)\n",
        "print(\"Standard Deviation:\", std_value)\n",
        "print(\"Variance:\", var_value)\n"
      ],
      "metadata": {
        "colab": {
          "base_uri": "https://localhost:8080/"
        },
        "id": "24fH7h6RRmPP",
        "outputId": "d1fcebcf-cddc-4c3b-e698-6271444294f9"
      },
      "execution_count": null,
      "outputs": [
        {
          "output_type": "stream",
          "name": "stdout",
          "text": [
            "Max: 20\n",
            "Min: 16\n",
            "Sum: 90\n",
            "Mean: 18.0\n",
            "Standard Deviation: 1.4142135623730951\n",
            "Variance: 2.0\n"
          ]
        }
      ]
    },
    {
      "cell_type": "code",
      "source": [],
      "metadata": {
        "id": "oP_B2epNSH-P"
      },
      "execution_count": null,
      "outputs": []
    },
    {
      "cell_type": "code",
      "source": [],
      "metadata": {
        "id": "hGhQ4xewRMDw"
      },
      "execution_count": null,
      "outputs": []
    },
    {
      "cell_type": "code",
      "source": [
        "#a\n",
        "import numpy as np\n",
        "\n",
        "array = np.array([[1, 3, 2, 4],\n",
        "                  [8, 6, 5, 7],\n",
        "                  [11, 10, 12, 9]])\n",
        "\n",
        "transpose_array = np.transpose(array)\n",
        "\n",
        "print(transpose_array)\n"
      ],
      "metadata": {
        "colab": {
          "base_uri": "https://localhost:8080/"
        },
        "id": "7-4--KqcSoaH",
        "outputId": "9a10f04d-df5a-4e36-88ed-23eaa8e7d0dc"
      },
      "execution_count": null,
      "outputs": [
        {
          "output_type": "stream",
          "name": "stdout",
          "text": [
            "[[ 1  8 11]\n",
            " [ 3  6 10]\n",
            " [ 2  5 12]\n",
            " [ 4  7  9]]\n"
          ]
        }
      ]
    },
    {
      "cell_type": "code",
      "source": [
        "#b\n",
        "import numpy as np\n",
        "\n",
        "array = np.array([[1, 3, 2, 4],\n",
        "                  [8, 6, 5, 7],\n",
        "                  [11, 10, 12, 9]])\n",
        "\n",
        "\n",
        "reshaped_array = np.reshape(array, (4, 3))\n",
        "\n",
        "print(reshaped_array)\n"
      ],
      "metadata": {
        "colab": {
          "base_uri": "https://localhost:8080/"
        },
        "id": "zc2cHumgSs_O",
        "outputId": "b4fe8068-8a2c-4ba7-8b99-09169b341d4e"
      },
      "execution_count": null,
      "outputs": [
        {
          "output_type": "stream",
          "name": "stdout",
          "text": [
            "[[ 1  3  2]\n",
            " [ 4  8  6]\n",
            " [ 5  7 11]\n",
            " [10 12  9]]\n"
          ]
        }
      ]
    }
  ]
}